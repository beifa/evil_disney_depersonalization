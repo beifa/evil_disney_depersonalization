{
 "cells": [
  {
   "cell_type": "code",
   "execution_count": 1,
   "metadata": {
    "id": "EPuqwtlNdTif"
   },
   "outputs": [],
   "source": [
    "import hashlib,json, re, os\n",
    "import pandas as pd\n",
    "import numpy as np\n",
    "\n",
    "from joblib import Parallel, delayed\n",
    "from tqdm import tqdm\n",
    "\n",
    "from IPython.display import Image\n",
    "from IPython.core.debugger import set_trace\n",
    "\n",
    "PATH = 'data'\n",
    "# PATH = '/content/drive/MyDrive/sber_TZ/csv_data'"
   ]
  },
  {
   "cell_type": "code",
   "execution_count": 2,
   "metadata": {
    "colab": {
     "base_uri": "https://localhost:8080/",
     "height": 521
    },
    "id": "VkQpoY-ZdYq7",
    "outputId": "199387a1-7051-448f-c550-1801783a6786"
   },
   "outputs": [
    {
     "data": {
      "text/html": [
       "<img src=\"https://static2.srcdn.com/wordpress/wp-content/uploads/2019/02/Disney-Villains-Promotional-Featured-Image.jpg?q=50&fit=crop&w=960&h=500\"/>"
      ],
      "text/plain": [
       "<IPython.core.display.Image object>"
      ]
     },
     "execution_count": 2,
     "metadata": {},
     "output_type": "execute_result"
    }
   ],
   "source": [
    "Image(url='https://static2.srcdn.com/wordpress/wp-content/uploads/2019/02/Disney-Villains-Promotional-Featured-Image.jpg?q=50&fit=crop&w=960&h=500')"
   ]
  },
  {
   "cell_type": "markdown",
   "metadata": {
    "id": "vfs2OVkV4wX-"
   },
   "source": [
    "### Loads text from file (text generate by lorem_ipsum)"
   ]
  },
  {
   "cell_type": "code",
   "execution_count": 3,
   "metadata": {
    "colab": {
     "base_uri": "https://localhost:8080/"
    },
    "id": "T3x1mAOYdkD7",
    "outputId": "8c7dcba9-a783-4831-fb2f-ac19c086e72c"
   },
   "outputs": [
    {
     "name": "stdout",
     "output_type": "stream",
     "text": [
      "250\n"
     ]
    }
   ],
   "source": [
    "\n",
    "line = []\n",
    "with open(os.path.join(PATH, 'lorem_ipsum.txt'), 'r') as f:\n",
    "    lines = f.readlines()\n",
    "    print(len(lines))\n",
    "\n",
    "# make all letter lower\n",
    "line = [txt.strip().lower() for txt in lines]"
   ]
  },
  {
   "cell_type": "code",
   "execution_count": 4,
   "metadata": {
    "id": "iOGAuEsjf0aI"
   },
   "outputs": [],
   "source": [
    "line = line * 1000#250000"
   ]
  },
  {
   "cell_type": "markdown",
   "metadata": {
    "id": "cVOXW57S7fE8"
   },
   "source": [
    "### Load psedo labels"
   ]
  },
  {
   "cell_type": "code",
   "execution_count": 5,
   "metadata": {
    "colab": {
     "base_uri": "https://localhost:8080/",
     "height": 204
    },
    "id": "YC3kHsWed1n-",
    "outputId": "c2b9bd88-1e39-44ed-c248-cb7bc982ee77"
   },
   "outputs": [
    {
     "data": {
      "text/html": [
       "<div>\n",
       "<style scoped>\n",
       "    .dataframe tbody tr th:only-of-type {\n",
       "        vertical-align: middle;\n",
       "    }\n",
       "\n",
       "    .dataframe tbody tr th {\n",
       "        vertical-align: top;\n",
       "    }\n",
       "\n",
       "    .dataframe thead th {\n",
       "        text-align: right;\n",
       "    }\n",
       "</style>\n",
       "<table border=\"1\" class=\"dataframe\">\n",
       "  <thead>\n",
       "    <tr style=\"text-align: right;\">\n",
       "      <th></th>\n",
       "      <th>name</th>\n",
       "      <th>address</th>\n",
       "      <th>sex</th>\n",
       "      <th>count_name</th>\n",
       "      <th>count_addr</th>\n",
       "    </tr>\n",
       "  </thead>\n",
       "  <tbody>\n",
       "    <tr>\n",
       "      <th>0</th>\n",
       "      <td>Верховный-бог Аид Геркулес</td>\n",
       "      <td>Загробный Мир 1001</td>\n",
       "      <td>0</td>\n",
       "      <td>3</td>\n",
       "      <td>3</td>\n",
       "    </tr>\n",
       "    <tr>\n",
       "      <th>1</th>\n",
       "      <td>Древнегреческий-бог Аид Геркулес</td>\n",
       "      <td>Загробный Мир Тисовая 1101</td>\n",
       "      <td>0</td>\n",
       "      <td>3</td>\n",
       "      <td>4</td>\n",
       "    </tr>\n",
       "    <tr>\n",
       "      <th>2</th>\n",
       "      <td>Красавчег-бог Аид Геркулес</td>\n",
       "      <td>Загробный Мир Ужасный Перекресток 666</td>\n",
       "      <td>0</td>\n",
       "      <td>3</td>\n",
       "      <td>5</td>\n",
       "    </tr>\n",
       "    <tr>\n",
       "      <th>3</th>\n",
       "      <td>Билл Сайкс Оливер_и_компания</td>\n",
       "      <td>Приключения Оливера Твиста 19а</td>\n",
       "      <td>0</td>\n",
       "      <td>3</td>\n",
       "      <td>4</td>\n",
       "    </tr>\n",
       "    <tr>\n",
       "      <th>4</th>\n",
       "      <td>Злой Гастон Красавица_и_Чудовище</td>\n",
       "      <td>Дремучий Лес 333</td>\n",
       "      <td>0</td>\n",
       "      <td>3</td>\n",
       "      <td>3</td>\n",
       "    </tr>\n",
       "  </tbody>\n",
       "</table>\n",
       "</div>"
      ],
      "text/plain": [
       "                               name                                address  \\\n",
       "0        Верховный-бог Аид Геркулес                     Загробный Мир 1001   \n",
       "1  Древнегреческий-бог Аид Геркулес             Загробный Мир Тисовая 1101   \n",
       "2        Красавчег-бог Аид Геркулес  Загробный Мир Ужасный Перекресток 666   \n",
       "3      Билл Сайкс Оливер_и_компания         Приключения Оливера Твиста 19а   \n",
       "4  Злой Гастон Красавица_и_Чудовище                       Дремучий Лес 333   \n",
       "\n",
       "   sex  count_name  count_addr  \n",
       "0    0           3           3  \n",
       "1    0           3           4  \n",
       "2    0           3           5  \n",
       "3    0           3           4  \n",
       "4    0           3           3  "
      ]
     },
     "execution_count": 5,
     "metadata": {},
     "output_type": "execute_result"
    }
   ],
   "source": [
    "evil_disney = [\n",
    "            ['Верховный-бог Аид Геркулес','Загробный Мир 1001', 'М'],\n",
    "            ['Древнегреческий-бог Аид Геркулес','Загробный Мир Тисовая 1101', 'М'],\n",
    "            ['Красавчег-бог Аид Геркулес','Загробный Мир Ужасный Перекресток 666', 'М'],\n",
    "            ['Билл Сайкс Оливер_и_компания', 'Приключения Оливера Твиста 19а', 'М'],\n",
    "            ['Злой Гастон Красавица_и_Чудовище', 'Дремучий Лес 333', 'М'],\n",
    "            ['Губернатор Рэтклифф Покахонтас', 'Королевство Англия Виргинии 1000a', 'М'],\n",
    "            ['Султан Джафар Аладдин', 'Антуан Галлану 1646/1715', 'М'],\n",
    "            ['Доктор Фасилье Принцесса_и_лягушка', 'Новый Орлеан 49-й', 'М'],\n",
    "            ['Злая Королева Белоснежка', 'Братья Гримм 1937а', 'Ж'],\n",
    "            ['Хитрая Королева Белоснежка', 'Ласке Братья Гримм 1936', 'Ж'],\n",
    "            ['Восхитительная Королева Белоснежка', 'Альбертом Хуртером Братья Гримм 1937', 'Ж'],\n",
    "            ['Изма Похождения Императора', 'Горы Кускотопия 1800', 'Ж'],    \n",
    "            ['Капитан Крюк Питер_Пэн', 'Кенсингтонские Cады Лондон 1313', 'М'],\n",
    "            ['Леди Тремейн Золушка', 'Франция Большой Замок 1812', 'Ж'],\n",
    "            ['Мадам Медуза Спасатели', 'Марджери Шарп 1977', 'Ж'],\n",
    "            ['Малефисента Спящая Красавица','Шарль Перро 1697', 'Ж'],\n",
    "            ['Матушка Готель Рапунцель','Средневековье Башня_дом 555', 'Ж'],\n",
    "            ['Персиваль Маклич Спасатели', 'В_прериях Австралии 1990', 'М'],\n",
    "            ['Принц-Джон Робин Гуд', 'Шервудский Лес Ноттингем 1912', 'М'],\n",
    "            ['Серый Волк Три_поросёнка', 'Англия Лондон 1843', 'М'],\n",
    "            ['Стервелла Де Виль','Улица Далматинцев 101', 'Ж'],\n",
    "            ['Злобная Урсула Русалочка', 'Атлантика Большой Риф 777', 'Ж'],\n",
    "            ['Клод Фролло Горбун_из_Нотр-Дама', 'Франция Нотер-Дам 362', 'М'],\n",
    "            ['Шерхан Книга Джунглей', 'Индия Джунгли 1893', 'М'],\n",
    "            ['Шрам Король Лев', 'Африка Земели Прайда 1003', 'М'],\n",
    "            ['Червонная Королева Алиса_в_Стране-чудес', 'Льюис Кэрролл 1865', 'Ж'],\n",
    "            ['Эдгар Бальтазар Коты-аристократы', 'Англия Париж 1910', 'М']\n",
    "            ]\n",
    "df_evil = pd.DataFrame(evil_disney, columns=['name', 'address', 'sex'])\n",
    "df_evil['sex'] = df_evil.sex.map({'Ж': 1, 'М': 0})\n",
    "df_evil['count_name'] = df_evil.name.apply(lambda x: len(x.split()))\n",
    "df_evil['count_addr'] = df_evil.address.apply(lambda x: len(x.split()))\n",
    "df_evil['address'] = df_evil['address'].str.strip()\n",
    "df_evil['name'] = df_evil['name'].str.strip()\n",
    "df_evil.head()"
   ]
  },
  {
   "cell_type": "markdown",
   "metadata": {
    "id": "0wYlHJhu7lyx"
   },
   "source": [
    "### Load data from [RuCode «Газпромбанк»](https://mipt.ru/news/partner_festivalya_rucode_gazprombank_priglashaet_reshit_realnye_zadachi_dlya_biznesa)\n"
   ]
  },
  {
   "cell_type": "code",
   "execution_count": 6,
   "metadata": {
    "id": "I47yG6j67bRC"
   },
   "outputs": [],
   "source": [
    "name = np.load(os.path.join(PATH, 'full_name.npy'), allow_pickle=True)\n",
    "addr = np.load(os.path.join(PATH, 'addr.npy'), allow_pickle=True)\n",
    "\n",
    "\n",
    "df = pd.DataFrame(name[:1142], columns = ['name'])\n",
    "df['address'] = addr\n",
    "bad = 'Республика Адыгея (Ад Абрикосовая 7'\n",
    "df.drop(df.index[df[df.address == bad].index.values[0]], inplace=True)\n",
    "\n",
    "df['address'] = df['address'].str.split().apply(lambda x: ' '.join(x)) \n",
    "df['name'] = df['name'].str.split().apply(lambda x: ' '.join(x)) \n",
    "df['count_name'] = df.name.apply(lambda x: len(x.split()))\n",
    "df['count_addr'] = df.address.apply(lambda x: len(x.split()))"
   ]
  },
  {
   "cell_type": "code",
   "execution_count": 7,
   "metadata": {
    "colab": {
     "base_uri": "https://localhost:8080/"
    },
    "id": "ZZwtAf84k1FV",
    "outputId": "e1ede3df-9939-49a4-c45c-307eab8e95de"
   },
   "outputs": [
    {
     "name": "stdout",
     "output_type": "stream",
     "text": [
      "Москва Андрухаева 74/39\n",
      "Москва Андрухаева 74/39\n",
      "Санкт-Петербург Майский 7/4\n",
      "Московская область Братьев Лоскутовых 8/19\n",
      "Москва Клубная 8/1\n",
      "Краснодарский край Комсомольская 2-я 7/0\n",
      "Астраханская область Дружбы 64/39\n",
      "Москва Клубная 8/1\n"
     ]
    }
   ],
   "source": [
    "regex = re.compile('[@_!#$%^&*()<>?/\\|}{~:]')      \n",
    "for t in df.address.values:\n",
    "    if(regex.search(t) != None):\n",
    "        print(t)"
   ]
  },
  {
   "cell_type": "code",
   "execution_count": 24,
   "metadata": {},
   "outputs": [],
   "source": [
    "# \"\"\"\n",
    "# https://planetcalc.ru/8678/\n",
    "# names.txt 2000 woman names\n",
    "\n",
    "# find ends sur, mid, name after filter man or woman\n",
    "# \"\"\"\n",
    "\n",
    "# with open(os.path.join(PATH, 'woman_names.txt'), 'r') as f:\n",
    "#     lines_woman = f.readlines()\n",
    "#     print(len(lines_woman))\n",
    "\n",
    "# pd.Series(lines_woman).str.strip().str.split().apply(lambda x: x[1][-2:]).value_counts().index"
   ]
  },
  {
   "cell_type": "markdown",
   "metadata": {},
   "source": [
    "### Generate data"
   ]
  },
  {
   "cell_type": "code",
   "execution_count": 9,
   "metadata": {
    "id": "Bnw3_q-8eADI"
   },
   "outputs": [],
   "source": [
    "def generate_key(text: str, addr:list, full_name:list)-> str:\n",
    "    \"\"\"\n",
    "    text: str line text\n",
    "    addr: list address\n",
    "    full_name: names\n",
    "\n",
    "    we take txt line and random take index position in current line and\n",
    "    set name, address and inn  \n",
    "\n",
    "    ИНН физического лица является последовательностью из 12 цифр,\n",
    "    из которых первые четыре цифры — код налогового органа, который присвоил ИНН  \n",
    "\n",
    "    return line with random name, inn and address\n",
    "    \"\"\"\n",
    "    inn = str(np.random.randint(123456789012, 999999999999)) \n",
    "    address = np.random.choice(addr)\n",
    "    full_name = np.random.choice(full_name)    \n",
    "    txt = text.strip().split(' ')\n",
    "    \n",
    "    \"\"\"\n",
    "    when we generate more data we get eq index(name idx = inn idx)    \n",
    "    this idea generate not merged index    \n",
    "    \"\"\"\n",
    "    q1, q2, q3 = np.quantile([i for i in range(len(txt))], [np.random.uniform(.1,.3),\n",
    "                                                            np.random.uniform(.41,.6),\n",
    "                                                            np.random.uniform(.71,.9)]) \n",
    "    txt[int(q1)] = full_name\n",
    "    txt[int(q2)] = inn\n",
    "    txt[int(q3)] = address\n",
    "    return txt\n",
    "\n",
    "def make_psedo(df: pd.DataFrame, original_data: list, verbose = False)->tuple:\n",
    "    \"\"\"\n",
    "    df: data PSEDO LABEL\n",
    "    original_data: ['Фролов Ефрем Федотович', 'Краснодар Автодорога 7']  \n",
    "    verbose: print psedo data  \n",
    "\n",
    "    idea:\n",
    "        we have data with original names\n",
    "        original_data [\n",
    "                       ('Третьякова', 'Михаил', 'Валерьяновина')\n",
    "                       ('Москва', 'Т.Керашева', '75')\n",
    "                       ]\n",
    "        find len full name and address (('Третьякова', 'Михаил', 'Валерьяновина') == 3)\n",
    "        after we get filter data for len\n",
    "        get df for man and woman\n",
    "\n",
    "        check simple idea find man or woman\n",
    "\n",
    "        if all true random init index from woman df and take psedo name, address\n",
    "        else man\n",
    "\n",
    "    return: tuple(psedo name, psedo address)\n",
    "\n",
    "    example:\n",
    "        name = {'22_23_24': ('Третьякова', 'Михаил', 'Валерьяновина')}\n",
    "        addr = {'68_69_70': ('Москва', 'Т.Керашева', 'Т.Керашева','Т.Керашева', '75')}\n",
    "        \n",
    "        name_to_gen_psedo = list(name.values())[0]\n",
    "        addr_to_gen_psedo = list(addr.values())[0]\n",
    "        \n",
    "        original_data = [name_to_gen_psedo, addr_to_gen_psedo]\n",
    "\n",
    "        >>  [('Третьякова', 'Михаил', 'Валерьяновина'),\n",
    "            ('Москва', 'Т.Керашева', 'Т.Керашева', 'Т.Керашева', '75')]\n",
    "\n",
    "        make_psedo(df_evil, original_data)\n",
    "        >>  ('Восхитительная Королева Белоснежка', 'Альбертом Хуртером Братья Гримм 1937')\n",
    "\n",
    "    \"\"\"\n",
    "\n",
    "    sur_bool = False\n",
    "    mid_bool = False\n",
    "    name_bool = False\n",
    "\n",
    "    name, addr = original_data\n",
    "    ori_sur, ori_name, ori_mid = name # ['Вишнякова', 'Хельга', 'Филатовна']\n",
    "    len_name = len(name)\n",
    "    len_addr = len(addr)\n",
    "    df = df[(df.count_name == len_name) & (df.count_addr == len_addr)]\n",
    "   \n",
    "    woman = df[df.sex == 1].reset_index(drop = True)\n",
    "    man = df[df.sex != 1].reset_index(drop =True)\n",
    "   \n",
    "    # take sex\n",
    "    if ori_sur.endswith(('ва', 'на', 'ая', 'ха')):\n",
    "        sur_bool =True \n",
    "    if ori_mid.endswith('на'):\n",
    "        mid_bool =True\n",
    "    if ori_name.endswith(('ия', 'на', 'ра', 'са', 'та', 'ва', 'ка', 'ья', 'га', 'йя', 'да', 'ма', 'оя', 'ла', 'ся', 'вь')):\n",
    "        name_bool =True\n",
    "    \n",
    "    if (name_bool == True) & (sur_bool == True) & (mid_bool == True): # woman     \n",
    "        idx = np.random.randint(woman.shape[0])\n",
    "        psedo_name, psedo_address = woman.iloc[idx].values[:2]        \n",
    "    else:       \n",
    "        idx = np.random.randint(man.shape[0])\n",
    "        psedo_name, psedo_address = man.iloc[idx].values[:2] \n",
    "\n",
    "    if verbose:\n",
    "        print('Fake data', psedo_name, psedo_address)    \n",
    "    return (psedo_name, psedo_address)"
   ]
  },
  {
   "cell_type": "code",
   "execution_count": 10,
   "metadata": {
    "colab": {
     "base_uri": "https://localhost:8080/"
    },
    "id": "arv5y637gDFM",
    "outputId": "df8da8f1-10da-4a3b-e8c0-6ea249170ccc"
   },
   "outputs": [
    {
     "name": "stdout",
     "output_type": "stream",
     "text": [
      "Len names:  51529 len unq. address:  254 len address from .csv:  1142 len generate data:  250000\n"
     ]
    }
   ],
   "source": [
    "# generate name, address and inn for blank text\n",
    "namev = df.name.values\n",
    "addrev = df.address.values\n",
    "\n",
    "tmp = []\n",
    "for i in range(len(line)):\n",
    "    d = generate_key(line[i], addrev, namev)\n",
    "    tmp.append(' '.join(d).strip())\n",
    "\n",
    "print('Len names: ', len(np.unique(name)),\n",
    "      'len unq. address: ',len(np.unique(addr)),\n",
    "      'len address from .csv: ', len(addr),\n",
    "      'len generate data: ', len(tmp))"
   ]
  },
  {
   "cell_type": "markdown",
   "metadata": {
    "id": "JXCwQj6exUzl"
   },
   "source": [
    "### Search and depersonalization of customer data in unstructured text"
   ]
  },
  {
   "cell_type": "code",
   "execution_count": 11,
   "metadata": {
    "id": "x-9d4U3DkYQp"
   },
   "outputs": [],
   "source": [
    "\"\"\"\n",
    "In line only one (name, address, inn)\n",
    "\"\"\"\n",
    "\n",
    "def find_address(txt: str)-> dict:\n",
    "    \"\"\"\n",
    "    txt: str line text\n",
    "    find index digit in line\n",
    "\n",
    "    we get index:\n",
    "        min len address is 3\n",
    "        we check:            \n",
    "            (data[i-2][0].isupper())<---data[i-1][0].isupper())<---75\n",
    "            get ('Москва', 'Т.Керашева', '75')\n",
    "\n",
    "    return max len(index) because we get for len 3 len 4\n",
    "    example:\n",
    "            return (\n",
    "                    {'68_69_70': ('Москва', 'Т.Керашева', '75')\n",
    "                    {'68_69_70_71': ('Москва', 'Т.Керашева', 'Лоботрясовая', '75')\n",
    "                    )\n",
    "            sorted(tmp)[0] -> 68_69_70_71\n",
    "\n",
    "    return index words in address : list: address {'68_69_70_71': ('Москва', 'Т.Керашева', 'Лоботрясовая', '75')}\n",
    "    \"\"\"\n",
    "    tmp = {}\n",
    "    count = []\n",
    "    clear_txt = ' '.join(txt.split()) \n",
    "    data = clear_txt.split(' ') \n",
    "    # find index digits\n",
    "    for idx, w in enumerate(data):\n",
    "        if w[0].isdigit():\n",
    "            count.append(idx)\n",
    " \n",
    "    for i in count:\n",
    "        #  Москва Дубзаводская 147  \n",
    "        if (data[i-1][0].isupper()) and (data[i-2][0].isupper()):\n",
    "            txt_addr = data[i-2], data[i-1], data[i]            \n",
    "            tmp[f'{i-2}_{i-1}_{i}'] = txt_addr\n",
    "            # Дубзаводская 147 08 \n",
    "            if (data[i+1][0].isdigit()) and (len(data[i+1]) < 12):\n",
    "                txt_addr = data[i-2], data[i-1], data[i], data[i+1]\n",
    "                tmp[f'{i-2}_{i-1}_{i}_{i+1}'] = txt_addr\n",
    "        # Краснодарский край Автодорога 7 \n",
    "        if (data[i-1][0].isupper()) and (data[i-2][0].islower()) and (data[i-3][0].isupper()):\n",
    "            txt_addr = data[i-3], data[i-2], data[i-1], data[i]\n",
    "            tmp[f'{i-3}_{i-2}_{i-1}_{i}'] = txt_addr\n",
    "            # Автодорога 7 3А \n",
    "            if (data[i+1][0].isdigit()) and (len(data[i+1]) < 12):\n",
    "                txt_addr = data[i-3], data[i-2], data[i-1], data[i], data[i+1]\n",
    "                tmp[f'{i-3}_{i-2}_{i-1}_{i}_{i+1}'] = txt_addr\n",
    "        # Москва Т.Керашева Лоботрясовая 75\n",
    "        if (data[i-1][0].isupper()) and (data[i-2][0].isupper()) and (data[i-3][0].isupper()):\n",
    "            txt_addr = data[i-3], data[i-2], data[i-1], data[i]\n",
    "            tmp[f'{i-3}_{i-2}_{i-1}_{i}'] = txt_addr\n",
    "            if (data[i+1][0].isdigit()) and (len(data[i+1]) < 12):\n",
    "                txt_addr = data[i-3], data[i-2], data[i-1], data[i], data[i+1]\n",
    "                tmp[f'{i-3}_{i-2}_{i-1}_{i}_{i+1}'] = txt_addr\n",
    "        # Моск. Область Т.Керашева Лоботрясовая 75\n",
    "        if (data[i-1][0].isupper()) and (data[i-2][0].isupper()) and (data[i-3][0].isupper()) and (data[i-4][0].isupper()):\n",
    "            txt_addr = data[i-4], data[i-3], data[i-2], data[i-1], data[i]\n",
    "            tmp[f'{i-4}_{i-3}_{i-2}_{i-1}_{i}'] = txt_addr\n",
    "            if (data[i+1][0].isdigit()) and (len(data[i+1]) < 12):\n",
    "                txt_addr = data[i-4], data[i-3], data[i-2], data[i-1], data[i], data[i+1]\n",
    "                tmp[f'{i-4}_{i-3}_{i-2}_{i-1}_{i}_{i+1}'] = txt_addr\n",
    "\n",
    "\n",
    "    if len(tmp) > 1:  return {sorted(tmp, key=len, reverse=True)[0] :tmp[sorted(tmp, key=len, reverse=True)[0]]}\n",
    "    else: return tmp\n",
    "\n",
    "def find_full_name(txt: str)->dict:  \n",
    "    \"\"\"\n",
    "    txt: str line text    \n",
    "    return {'22_23_24': ('Третьяков', 'Михаил', 'Валерьянович')}\n",
    "    similarly how find_address but we find upper latter\n",
    "    \"\"\"  \n",
    "    tmp = {}\n",
    "    count = []\n",
    "    clear_txt = ' '.join(txt.split()) \n",
    "    data = clear_txt.split(' ')\n",
    "    for idx, w in enumerate(data):\n",
    "        if w[0].isupper():\n",
    "            count.append(idx)    \n",
    "    for i in range(len(count)):\n",
    "        if data[count[i] + 2][0].isupper():       \n",
    "            if data[count[i]+3][0].isupper():\n",
    "                # for another dataset with name  len > 3\n",
    "                # if data[count[i ] + 1][0].isupper():   \n",
    "                #     txt_name = data[count[i]], data[count[i]+ 1], data[count[i ]+ 2],data[count[i ]+ 3]\n",
    "                #     tmp[f'{count[i]}_{count[i]+1}_{count[i]+2}_{count[i]+3}'] = txt_name\n",
    "                pass                    \n",
    "            else:\n",
    "                if data[count[i ] + 1][0].isupper():\n",
    "                    txt_name = data[count[i]], data[count[i + 1]], data[count[i + 2]]\n",
    "                    tmp[f'{count[i]}_{count[i]+1}_{count[i]+2}'] = txt_name\n",
    "    # not need all data len names is 3\n",
    "    return tmp"
   ]
  },
  {
   "cell_type": "code",
   "execution_count": 12,
   "metadata": {
    "id": "zQ3TnjJqkYBL"
   },
   "outputs": [],
   "source": [
    "def take_txt(txt: str, df: pd.DataFrame, decode_data:dict = None, key: str = None)-> str:\n",
    "    \"\"\"\n",
    "    txt:srt line text with added mark(name, address and inn)\n",
    "    df: psedo df \n",
    "    key: str = None df96220fa161767c5cbb95567855c86b\n",
    "    Example:\n",
    "        masked:\n",
    "            find name  ---> {'22_23_24': ('Третьякова', 'Михаил', 'Валерьяновина')}\n",
    "            and address ---> {'68_69_70': ('Москва', 'Т.Керашева', 'Т.Керашева', 'Т.Керашева', '75')}\n",
    "            decode is None:\n",
    "                find inn ---> '123456789123'\n",
    "                get hex ---> 'df96220fa161767c5cbb95567855c86b'\n",
    "                get original data:\n",
    "                    ('Третьяков', 'Михаил', 'Валерьянович')\n",
    "                    ('Москва', 'Москва', 'Т.Керашева', 'Т.Керашева', '75')\n",
    "                psedo:\n",
    "                    name_psedo --->  Красавчег_бог Аид Геркулес'\n",
    "                    addr_psedo ---> 'Загробный Мир Ужасный Перекресток 666'\n",
    "                save to decode after\n",
    "            get name index to set psedo:\n",
    "                '22_23_24' ---> ['22', '23', '24']\n",
    "            split line\n",
    "            set psedo by index and join text for line after change original inn to hex\n",
    "        decode:\n",
    "            we get data from previos saved in masked save_to_decode\n",
    "            name_psedo ---> {'26_27_28': ('Голыгиев', 'Ландри', 'Всеволодович')}\n",
    "            addr_psedo ---> {'80_81_82': ('Москва', 'Вишневая', '70')}\n",
    "            inn ---> 269054776996\n",
    "            after split:\n",
    "                        name_psedo -->  ('Голыгиев', 'Ландри', 'Всеволодович')\n",
    "            other step indentical masked    \n",
    "    if decode return txt\n",
    "    if masked return decode_data and txt\n",
    "        decode_data:\n",
    "            {'df96220fa161767c5cbb95567855c86b': [{'68_69_70': ('Москва','Т.Керашева','75')},\n",
    "                                                {'22_23_24': ('Третьяков', 'Михаил', 'Валерьянович')},\n",
    "                                                '123456789123']}\n",
    "    \"\"\"\n",
    "    # set_trace()\n",
    "    name = find_full_name(txt)\n",
    "    addr = find_address(txt)\n",
    "\n",
    "    if decode_data is None:          \n",
    "        save_to_decode = {}        \n",
    "        reg_inn = re.search('\\d{12}', txt).group()\n",
    "        key_hex = hashlib.md5(reg_inn.encode('utf-8')).hexdigest() \n",
    "\n",
    "        name_to_gen_psedo = list(name.values())[0]\n",
    "        addr_to_gen_psedo = list(addr.values())[0]\n",
    "        original_data = [name_to_gen_psedo, addr_to_gen_psedo]\n",
    "        # name_psedo, addr_psedo\n",
    "        name_psedo, addr_psedo = make_psedo(df, original_data)\n",
    "        name_psedo, addr_psedo = name_psedo.split(), addr_psedo.split()\n",
    "\n",
    "        save_to_decode[key_hex] = [name, addr, reg_inn]\n",
    "    else:     \n",
    "        name_psedo, addr_psedo, reg_inn = decode_data[key]\n",
    "        name_psedo, addr_psedo = name_psedo[list(name.keys())[0]], addr_psedo[list(addr.keys())[0]]\n",
    "\n",
    "    # change to psedo    \n",
    "    idx_name = list(name.keys())[0].split('_')\n",
    "    assert len(idx_name) == 3, f'error len name < 3 {list(name.values())[0]}'\n",
    "    idx_addr = list(addr.keys())[0].split('_')\n",
    "    # count all len addr in data set and set to assert < max values len addr\n",
    "    assert len(idx_addr) >= 3, f'error len idx_addr >= 3 {list(idx_addr.values())[0]}' \n",
    "    data = txt.split()\n",
    "    psedo_data = data.copy()  \n",
    "    psedo_data[int(idx_name[0]): int(idx_name[-1])+1] = name_psedo\n",
    "    psedo_data[int(idx_addr[0]): int(idx_addr[-1])+1] = addr_psedo\n",
    "    psedo_idx = (np.array(data) != np.array(psedo_data)).nonzero()[0]\n",
    "    psedo_idx_name = psedo_idx[:3]\n",
    "    psedo_idx_addr = psedo_idx[3:]       \n",
    "\n",
    "    assert all(psedo_idx_name == np.asarray(idx_name).astype(int)),\\\n",
    "           f'idx name not corect {idx_name} -> {psedo_idx_name}'\n",
    "    assert all(psedo_idx_addr == np.asarray(idx_addr).astype(int)),\\\n",
    "               f'idx addr not corect {idx_addr} -> {psedo_idx_addr}'\n",
    "    new_txt = ' '.join(psedo_data)    \n",
    "    if decode_data is None:             \n",
    "        new_txt = re.sub(reg_inn, key_hex, new_txt)\n",
    "        return new_txt, save_to_decode\n",
    "    else: return re.sub(key, reg_inn, new_txt)"
   ]
  },
  {
   "cell_type": "code",
   "execution_count": 13,
   "metadata": {
    "colab": {
     "base_uri": "https://localhost:8080/"
    },
    "id": "s0YNN1opkX_B",
    "outputId": "d4da664c-80bb-447f-963b-73731bf0d164"
   },
   "outputs": [
    {
     "name": "stdout",
     "output_type": "stream",
     "text": [
      "Correct!\n"
     ]
    }
   ],
   "source": [
    "new_txt, param = take_txt(tmp[0], df_evil)\n",
    "decode_txt = take_txt(new_txt, df_evil, decode_data=param, key=list(param.keys())[0])\n",
    "assert decode_txt == tmp[0], 'simple check decode not correct'\n",
    "print('Correct!')"
   ]
  },
  {
   "cell_type": "code",
   "execution_count": 14,
   "metadata": {
    "id": "27cgaRXuvtVX"
   },
   "outputs": [],
   "source": [
    "# !cat /proc/cpuinfo"
   ]
  },
  {
   "cell_type": "code",
   "execution_count": 15,
   "metadata": {
    "id": "FFZE0rewUf4o"
   },
   "outputs": [],
   "source": [
    "# %%time\n",
    "# ori_data = {}\n",
    "# fake_txt = []\n",
    "# for text in tmp:\n",
    "#     new_txt, param = take_txt(text, df_evil)    \n",
    "#     ori_data.update(param)\n",
    "#     fake_txt.append(new_txt)"
   ]
  },
  {
   "cell_type": "code",
   "execution_count": 16,
   "metadata": {
    "id": "JvDzS6DIUjH-"
   },
   "outputs": [],
   "source": [
    "# %%time\n",
    "# make_ori_txt = []\n",
    "# for key in ori_data.keys():\n",
    "#     for t in fake_txt:\n",
    "#         if key in t:   \n",
    "#             ori_txt =  take_txt(t, df_evil, decode_data=ori_data, key = key)\n",
    "#             make_ori_txt.append(ori_txt)"
   ]
  },
  {
   "cell_type": "code",
   "execution_count": 17,
   "metadata": {
    "id": "zufq1VcPUlwW"
   },
   "outputs": [],
   "source": [
    "# for i, j in zip(make_ori_txt, tmp):\n",
    "#     if i != j:\n",
    "#         print(i)\n",
    "#         print(j)"
   ]
  },
  {
   "cell_type": "code",
   "execution_count": 18,
   "metadata": {
    "colab": {
     "base_uri": "https://localhost:8080/"
    },
    "id": "iVb9Fod3lDkP",
    "outputId": "428aedb0-c7e1-4f57-f366-4ed263f62f86"
   },
   "outputs": [
    {
     "name": "stderr",
     "output_type": "stream",
     "text": [
      "100%|██████████| 250000/250000 [01:07<00:00, 3730.91it/s]\n"
     ]
    },
    {
     "name": "stdout",
     "output_type": "stream",
     "text": [
      "CPU times: user 20.8 s, sys: 1.79 s, total: 22.6 s\n",
      "Wall time: 1min 7s\n"
     ]
    }
   ],
   "source": [
    "%%time\n",
    "result = Parallel(n_jobs = -1)(delayed(take_txt)(text,\n",
    "                                        df_evil              \n",
    "                                            )\n",
    "                                            for text in tqdm(tmp)\n",
    "                                            )"
   ]
  },
  {
   "cell_type": "code",
   "execution_count": 19,
   "metadata": {
    "colab": {
     "base_uri": "https://localhost:8080/"
    },
    "id": "zLw5X3V0lDgM",
    "outputId": "094c17be-be2a-42e0-e7c2-752e8f9d6e67"
   },
   "outputs": [
    {
     "name": "stdout",
     "output_type": "stream",
     "text": [
      "CPU times: user 7.2 s, sys: 629 ms, total: 7.83 s\n",
      "Wall time: 8.57 s\n"
     ]
    }
   ],
   "source": [
    "%%time\n",
    "decode_txt = Parallel(n_jobs = -1)(delayed(take_txt)(result[idx][0],\n",
    "                                                     df_evil,\n",
    "                                                     result[idx][1],\n",
    "                                                     list(result[idx][1].keys())[0]\n",
    "                                                     ) \n",
    "                                                     for idx in range(len(result))\n",
    "                                                     )"
   ]
  },
  {
   "cell_type": "markdown",
   "metadata": {
    "id": "j-Bxa0jHBs_P"
   },
   "source": [
    "### Check correct"
   ]
  },
  {
   "cell_type": "code",
   "execution_count": 20,
   "metadata": {
    "colab": {
     "base_uri": "https://localhost:8080/",
     "height": 171
    },
    "id": "ShwqcyDEBSzD",
    "outputId": "f880a5a9-23ab-4b72-9404-a047f0e4680c"
   },
   "outputs": [
    {
     "data": {
      "text/plain": [
       "'повседневная практика показывает, что консультация с широким активом позволяет выполнять важные задания по разработке позиций, занимаемых участниками в отношении поставленных Капитан Крюк Питер_Пэн товарищи! реализация намеченных плановых заданий способствует подготовки и реализации форм развития. не следует, однако забывать, что начало повседневной работы по формированию позиции в значительной степени обуславливает создание систем массового участия. значимость этих проблем настолько очевидна, что 15a05e431996d6bb78c8372bcc043df1 повседневной работы по формированию позиции требуют от нас анализа соответствующий условий активизации. не следует, однако забывать, что реализация намеченных плановых заданий позволяет оценить значение направлений Кенсингтонские Cады Лондон 1313 развития. не следует, однако забывать, что начало повседневной работы по формированию позиции требуют от нас анализа модели развития.'"
      ]
     },
     "execution_count": 20,
     "metadata": {},
     "output_type": "execute_result"
    }
   ],
   "source": [
    "result[127][0]"
   ]
  },
  {
   "cell_type": "code",
   "execution_count": 21,
   "metadata": {
    "colab": {
     "base_uri": "https://localhost:8080/"
    },
    "id": "7_d0AZHmBk-1",
    "outputId": "f019ad7a-897c-422b-c130-eae5d7fdc0e6"
   },
   "outputs": [
    {
     "data": {
      "text/plain": [
       "{'15a05e431996d6bb78c8372bcc043df1': [{'20_21_22': ('Близнякова',\n",
       "    'Роини',\n",
       "    'Будимировна')},\n",
       "  {'85_86_87_88': ('Москва', 'Комсомольская', '2-я', '6')},\n",
       "  '476592468897']}"
      ]
     },
     "execution_count": 21,
     "metadata": {},
     "output_type": "execute_result"
    }
   ],
   "source": [
    "result[127][1]"
   ]
  },
  {
   "cell_type": "code",
   "execution_count": 22,
   "metadata": {
    "colab": {
     "base_uri": "https://localhost:8080/",
     "height": 171
    },
    "id": "3v0uDDzgBOo5",
    "outputId": "53ce9c2e-84f6-4ede-d5f7-04b6f907211f"
   },
   "outputs": [
    {
     "data": {
      "text/plain": [
       "'повседневная практика показывает, что консультация с широким активом позволяет выполнять важные задания по разработке позиций, занимаемых участниками в отношении поставленных Близнякова Роини Будимировна товарищи! реализация намеченных плановых заданий способствует подготовки и реализации форм развития. не следует, однако забывать, что начало повседневной работы по формированию позиции в значительной степени обуславливает создание систем массового участия. значимость этих проблем настолько очевидна, что 476592468897 повседневной работы по формированию позиции требуют от нас анализа соответствующий условий активизации. не следует, однако забывать, что реализация намеченных плановых заданий позволяет оценить значение направлений Москва Комсомольская 2-я 6 развития. не следует, однако забывать, что начало повседневной работы по формированию позиции требуют от нас анализа модели развития.'"
      ]
     },
     "execution_count": 22,
     "metadata": {},
     "output_type": "execute_result"
    }
   ],
   "source": [
    "decode_txt[127]"
   ]
  },
  {
   "cell_type": "code",
   "execution_count": 23,
   "metadata": {
    "colab": {
     "base_uri": "https://localhost:8080/"
    },
    "id": "jtKZevfZ1z4M",
    "outputId": "c7d6a028-6146-41ac-9ca4-11594da48edb"
   },
   "outputs": [
    {
     "name": "stdout",
     "output_type": "stream",
     "text": [
      "Correct!\n"
     ]
    }
   ],
   "source": [
    "assert decode_txt == tmp, 'not eq, decode error'\n",
    "print('Correct!')"
   ]
  }
 ],
 "metadata": {
  "colab": {
   "collapsed_sections": [],
   "name": "evil_disney_depersonalization.ipynb",
   "provenance": []
  },
  "kernelspec": {
   "display_name": "Python 3",
   "language": "python",
   "name": "python3"
  },
  "language_info": {
   "codemirror_mode": {
    "name": "ipython",
    "version": 3
   },
   "file_extension": ".py",
   "mimetype": "text/x-python",
   "name": "python",
   "nbconvert_exporter": "python",
   "pygments_lexer": "ipython3",
   "version": "3.9.2"
  }
 },
 "nbformat": 4,
 "nbformat_minor": 4
}
