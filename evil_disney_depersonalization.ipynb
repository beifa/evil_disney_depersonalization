{
 "cells": [
  {
   "cell_type": "code",
   "execution_count": 1,
   "metadata": {
    "id": "EPuqwtlNdTif"
   },
   "outputs": [],
   "source": [
    "import hashlib,json, re, os\n",
    "import pandas as pd\n",
    "import numpy as np\n",
    "\n",
    "from joblib import Parallel, delayed\n",
    "from tqdm import tqdm\n",
    "\n",
    "from IPython.display import Image\n",
    "from IPython.core.debugger import set_trace\n",
    "\n",
    "PATH = 'data' "
   ]
  },
  {
   "cell_type": "code",
   "execution_count": 2,
   "metadata": {
    "colab": {
     "base_uri": "https://localhost:8080/",
     "height": 521
    },
    "id": "VkQpoY-ZdYq7",
    "outputId": "820a6f3b-61a7-421a-e55d-f344563dc31c"
   },
   "outputs": [
    {
     "data": {
      "text/html": [
       "<img src=\"https://static2.srcdn.com/wordpress/wp-content/uploads/2019/02/Disney-Villains-Promotional-Featured-Image.jpg?q=50&fit=crop&w=960&h=500\"/>"
      ],
      "text/plain": [
       "<IPython.core.display.Image object>"
      ]
     },
     "execution_count": 2,
     "metadata": {},
     "output_type": "execute_result"
    }
   ],
   "source": [
    "Image(url='https://static2.srcdn.com/wordpress/wp-content/uploads/2019/02/Disney-Villains-Promotional-Featured-Image.jpg?q=50&fit=crop&w=960&h=500')"
   ]
  },
  {
   "cell_type": "markdown",
   "metadata": {
    "id": "vfs2OVkV4wX-"
   },
   "source": [
    "## Loads text from file (text generate by lorem_ipsum)"
   ]
  },
  {
   "cell_type": "code",
   "execution_count": 3,
   "metadata": {
    "colab": {
     "base_uri": "https://localhost:8080/"
    },
    "id": "T3x1mAOYdkD7",
    "outputId": "0e556ab2-e0fd-4ade-947b-701dd4953257"
   },
   "outputs": [
    {
     "name": "stdout",
     "output_type": "stream",
     "text": [
      "250\n"
     ]
    }
   ],
   "source": [
    "\n",
    "line = []\n",
    "with open(os.path.join(PATH, 'lorem_ipsum.txt'), 'r') as f:\n",
    "    lines = f.readlines()\n",
    "    print(len(lines))\n",
    "\n",
    "# make all latter lower\n",
    "line = [txt.strip().lower() for txt in lines]"
   ]
  },
  {
   "cell_type": "markdown",
   "metadata": {
    "id": "cVOXW57S7fE8"
   },
   "source": [
    "### Load psedo labels"
   ]
  },
  {
   "cell_type": "code",
   "execution_count": 4,
   "metadata": {
    "colab": {
     "base_uri": "https://localhost:8080/",
     "height": 204
    },
    "id": "YC3kHsWed1n-",
    "outputId": "cf64e54f-f2f7-4630-9f1a-a03055872c0d"
   },
   "outputs": [
    {
     "data": {
      "text/html": [
       "<div>\n",
       "<style scoped>\n",
       "    .dataframe tbody tr th:only-of-type {\n",
       "        vertical-align: middle;\n",
       "    }\n",
       "\n",
       "    .dataframe tbody tr th {\n",
       "        vertical-align: top;\n",
       "    }\n",
       "\n",
       "    .dataframe thead th {\n",
       "        text-align: right;\n",
       "    }\n",
       "</style>\n",
       "<table border=\"1\" class=\"dataframe\">\n",
       "  <thead>\n",
       "    <tr style=\"text-align: right;\">\n",
       "      <th></th>\n",
       "      <th>name</th>\n",
       "      <th>addres</th>\n",
       "      <th>sex</th>\n",
       "      <th>count_name</th>\n",
       "      <th>count_addr</th>\n",
       "    </tr>\n",
       "  </thead>\n",
       "  <tbody>\n",
       "    <tr>\n",
       "      <th>0</th>\n",
       "      <td>Верховный_бог Аид Геркулес</td>\n",
       "      <td>Загробный Мир 1</td>\n",
       "      <td>0</td>\n",
       "      <td>3</td>\n",
       "      <td>3</td>\n",
       "    </tr>\n",
       "    <tr>\n",
       "      <th>1</th>\n",
       "      <td>Древнегреческий_бог Аид Геркулес</td>\n",
       "      <td>Олимп Загробный Мир 111</td>\n",
       "      <td>0</td>\n",
       "      <td>3</td>\n",
       "      <td>4</td>\n",
       "    </tr>\n",
       "    <tr>\n",
       "      <th>2</th>\n",
       "      <td>Красавчег_бог Аид Геркулес</td>\n",
       "      <td>Загробный Мир Ужасный Перекресток 666</td>\n",
       "      <td>0</td>\n",
       "      <td>3</td>\n",
       "      <td>5</td>\n",
       "    </tr>\n",
       "    <tr>\n",
       "      <th>3</th>\n",
       "      <td>Билл Сайкс Оливер_и_компания</td>\n",
       "      <td>Приключения Оливера Твиста 19</td>\n",
       "      <td>0</td>\n",
       "      <td>3</td>\n",
       "      <td>4</td>\n",
       "    </tr>\n",
       "    <tr>\n",
       "      <th>4</th>\n",
       "      <td>Злой Гастон Красавица_и_Чудовище</td>\n",
       "      <td>Дремучий Лес 666</td>\n",
       "      <td>0</td>\n",
       "      <td>3</td>\n",
       "      <td>3</td>\n",
       "    </tr>\n",
       "  </tbody>\n",
       "</table>\n",
       "</div>"
      ],
      "text/plain": [
       "                               name                                 addres  \\\n",
       "0        Верховный_бог Аид Геркулес                        Загробный Мир 1   \n",
       "1  Древнегреческий_бог Аид Геркулес                Олимп Загробный Мир 111   \n",
       "2        Красавчег_бог Аид Геркулес  Загробный Мир Ужасный Перекресток 666   \n",
       "3      Билл Сайкс Оливер_и_компания          Приключения Оливера Твиста 19   \n",
       "4  Злой Гастон Красавица_и_Чудовище                       Дремучий Лес 666   \n",
       "\n",
       "   sex  count_name  count_addr  \n",
       "0    0           3           3  \n",
       "1    0           3           4  \n",
       "2    0           3           5  \n",
       "3    0           3           4  \n",
       "4    0           3           3  "
      ]
     },
     "execution_count": 4,
     "metadata": {},
     "output_type": "execute_result"
    }
   ],
   "source": [
    "evil_disney = [\n",
    "            ['Верховный_бог Аид Геркулес','Загробный Мир 1', 'М'],\n",
    "            ['Древнегреческий_бог Аид Геркулес','Олимп Загробный Мир 111', 'М'],\n",
    "            ['Красавчег_бог Аид Геркулес','Загробный Мир Ужасный Перекресток 666', 'М'],\n",
    "            ['Билл Сайкс Оливер_и_компания', 'Приключения Оливера Твиста 19', 'М'],\n",
    "            ['Злой Гастон Красавица_и_Чудовище', 'Дремучий Лес 666', 'М'],\n",
    "            ['Губернатор Рэтклифф Покахонтас', 'Королевство Англия Виргинии 1a', 'М'],\n",
    "            ['Султан Джафар Аладдин', 'Антуа­н Галлану 1646/1715', 'М'],\n",
    "            ['Доктор Фасилье Принцесса_и_лягушка', 'Новый Орлеан 49-й', 'М'],\n",
    "            ['Злая Королева Белоснежка', 'Братья Гримм 1937', 'Ж'],\n",
    "            ['Хитрая Королева Белоснежка', 'Ласке Братья Гримм 1937', 'Ж'],\n",
    "            ['Восхитительная Королева Белоснежка', 'Альбертом Хуртером Братья Гримм 1937', 'Ж'],\n",
    "            ['Изма Похождения Императора', 'Горы Кускотопия 18', 'Ж'],\n",
    "            ['Капитан Крюк Питер_Пэн', 'Кенсингтонские Cады Лондон 1', 'М'],\n",
    "            ['Леди Тремейн Золушка', 'Франция Большой Замок 1812', 'Ж'],\n",
    "            ['Мадам Медуза Спасатели', 'Марджери Шарп 1977', 'Ж'],\n",
    "            ['Малефисента Спящая Красавица','Шарль Перро 1697', 'Ж'],\n",
    "            ['Матушка Готель Рапунцель','Средневековье Башня 555', 'Ж'],\n",
    "            ['Персиваль Маклич Спасатели', 'В-прериях Австралии 1990', 'М'],\n",
    "            ['Принц_Джон Робин Гуд', 'Шервудский Лес Ноттингем 1912', 'М'],\n",
    "            ['Серый Волк Три_поросёнка', 'Англия Лондон 1843', 'М'],\n",
    "            ['Стервелла Де Виль','Улица Далматинцев 101', 'Ж'],\n",
    "            ['Урсула Злобная Русалочка', 'Атлантика Большой Риф 7', 'Ж'],\n",
    "            ['Клод Фролло Горбун_из_Нотр-Дама', 'Франция Нотер-Дам 6', 'М'],\n",
    "            ['Шерхан Книга Джунглей', 'Индия Джунглей 1893', 'М'],\n",
    "            ['Шрам Король Лев', 'Африка Земели Прайда 3', 'М'],\n",
    "            ['Червонная Королева Алиса_в_Стране-чудес', 'Льюис Кэрролл 1865', 'Ж'],\n",
    "            ['Эдгар Бальтазар Коты-аристократы', 'Англия Париже 1910', 'М']\n",
    "            ]\n",
    "df_evil = pd.DataFrame(evil_disney, columns=['name', 'addres', 'sex'])\n",
    "df_evil['sex'] = df_evil.sex.map({'Ж': 1, 'М': 0})\n",
    "df_evil['count_name'] = df_evil.name.apply(lambda x: len(x.split()))\n",
    "df_evil['count_addr'] = df_evil.addres.apply(lambda x: len(x.split()))\n",
    "df_evil.head()"
   ]
  },
  {
   "cell_type": "markdown",
   "metadata": {
    "id": "0wYlHJhu7lyx"
   },
   "source": [
    "### Load data from [RuCode «Газпромбанк»](https://mipt.ru/news/partner_festivalya_rucode_gazprombank_priglashaet_reshit_realnye_zadachi_dlya_biznesa)\n"
   ]
  },
  {
   "cell_type": "code",
   "execution_count": 5,
   "metadata": {
    "id": "I47yG6j67bRC"
   },
   "outputs": [],
   "source": [
    "name = np.load(os.path.join(PATH, 'full_name.npy'), allow_pickle=True)\n",
    "addr = np.load(os.path.join(PATH, 'addr.npy'), allow_pickle=True)\n",
    "\n",
    "# take \n",
    "df = pd.DataFrame(name[:1142], columns = ['name'])\n",
    "df['addres'] = addr\n",
    "df['count_name'] = df.name.apply(lambda x: len(x.split()))\n",
    "df['count_addr'] = df.addres.apply(lambda x: len(x.split()))"
   ]
  },
  {
   "cell_type": "code",
   "execution_count": 6,
   "metadata": {
    "id": "Bnw3_q-8eADI"
   },
   "outputs": [],
   "source": [
    "def generate_key(text: str, addr:list, full_name:list)-> str:\n",
    "    \"\"\"\n",
    "    text: str line text\n",
    "    addr: list addres\n",
    "    full_name: names\n",
    "\n",
    "    we take txt line and random take index position in current line and\n",
    "    set name, addres and inn  \n",
    "\n",
    "    ИНН физического лица является последовательностью из 12 цифр,\n",
    "    из которых первые четыре цифры — код налогового органа, который присвоил ИНН  \n",
    "\n",
    "    return line with random name, inn and addres\n",
    "    \"\"\"\n",
    "    inn = str(np.random.randint(123456789012, 999999999999)) \n",
    "    np.random.seed(11)\n",
    "    addres = np.random.choice(addr)\n",
    "    full_name = np.random.choice(full_name)    \n",
    "    txt = text.strip().split(' ')\n",
    "    \n",
    "    \"\"\"\n",
    "    when we generate more data we get eq index(name idx = inn idx)\n",
    "    \n",
    "    this idea generate not merged index    \n",
    "    \"\"\"\n",
    "    q1, q2, q3 = np.quantile([i for i in range(len(txt))], [np.random.uniform(.1,.4),\n",
    "                                                            np.random.uniform(.41,.6),\n",
    "                                                            np.random.uniform(.61,.9)]) \n",
    "    txt[int(q1)] = full_name\n",
    "    txt[int(q2)] = inn\n",
    "    txt[int(q3)] = addres\n",
    "    return txt\n",
    "\n",
    "def make_psedo(df: pd.DataFrame, original_data: list, verbose = False)->tuple:\n",
    "    \"\"\"\n",
    "    df: data PSEDO LABEL\n",
    "    original_data: ['Фролов Ефрем Федотович', 'Краснодар Автодорога 7']  \n",
    "    verbose: print psedo data  \n",
    "\n",
    "    idea:\n",
    "        we have data with original names\n",
    "        original_data [\n",
    "                       ('Третьякова', 'Михаил', 'Валерьяновина')\n",
    "                       ('Москва', 'Т.Керашева', '75')\n",
    "                       ]\n",
    "        find len full name and addres (('Третьякова', 'Михаил', 'Валерьяновина') == 3)\n",
    "        after we get filter data for len\n",
    "        get df for man and woman\n",
    "\n",
    "        check simple idea find man or woman\n",
    "\n",
    "        if all true random init index from woman df and take psedo name, addres\n",
    "        else man\n",
    "\n",
    "    return: tuple(psedo name, psedo addres)\n",
    "\n",
    "    example:\n",
    "        name = {'22_23_24': ('Третьякова', 'Михаил', 'Валерьяновина')}\n",
    "        addr = {'68_69_70': ('Москва', 'Т.Керашева', 'Т.Керашева','Т.Керашева', '75')}\n",
    "        \n",
    "        name_to_gen_psedo = list(name.values())[0]\n",
    "        addr_to_gen_psedo = list(addr.values())[0]\n",
    "        \n",
    "        original_data = [name_to_gen_psedo, addr_to_gen_psedo]\n",
    "\n",
    "        >>  [('Третьякова', 'Михаил', 'Валерьяновина'),\n",
    "            ('Москва', 'Т.Керашева', 'Т.Керашева', 'Т.Керашева', '75')]\n",
    "\n",
    "        make_psedo(df_evil, original_data)\n",
    "        >>  ('Восхитительная Королева Белоснежка', 'Альбертом Хуртером Братья Гримм 1937')\n",
    "\n",
    "    \"\"\"\n",
    "\n",
    "    sur_bool = False\n",
    "    name_bool = False\n",
    "\n",
    "    name, addr = original_data\n",
    "    ori_sur, ori_name, ori_mid = name # ['Вишнякова', 'Хельга', 'Филатовна']\n",
    "    len_name = len(name)\n",
    "    len_addr = len(addr)\n",
    "    df = df[(df.count_name == len_name) & (df.count_addr == len_addr)]\n",
    "   \n",
    "    woman = df[df.sex == 1].reset_index(drop = True)\n",
    "    man = df[df.sex != 1].reset_index(drop =True)\n",
    "   \n",
    "    # take sex\n",
    "    if ori_sur.endswith('ва'):\n",
    "        sur_bool =True \n",
    "    if ori_mid.endswith('на'):\n",
    "        name_bool =True\n",
    "    \n",
    "    if (name_bool == True) & (sur_bool == True): # woman    \n",
    "        idx = np.random.randint(woman.shape[0])\n",
    "        psedo_name, psedo_addres = woman.iloc[idx].values[:2]        \n",
    "    else:       \n",
    "        idx = np.random.randint(man.shape[0])\n",
    "        psedo_name, psedo_addres = man.iloc[idx].values[:2] \n",
    "\n",
    "    if verbose:\n",
    "        print('Fake data', psedo_name, psedo_addres)    \n",
    "    return (psedo_name, psedo_addres)"
   ]
  },
  {
   "cell_type": "code",
   "execution_count": 7,
   "metadata": {
    "colab": {
     "base_uri": "https://localhost:8080/"
    },
    "id": "arv5y637gDFM",
    "outputId": "f3afaad6-bdfe-431d-bd5e-d0e46f77963f"
   },
   "outputs": [
    {
     "name": "stdout",
     "output_type": "stream",
     "text": [
      "Len names:  51529 len unq. addres:  254 len addres from .csv:  1142 len generate data:  250\n"
     ]
    }
   ],
   "source": [
    "# generate name, addres and inn for blank text\n",
    "namev = df.name.values\n",
    "addrev = df.addres.values\n",
    "\n",
    "tmp = []\n",
    "for i in range(len(line)):\n",
    "    d = generate_key(line[i], addrev, namev)\n",
    "    tmp.append(' '.join(d).strip())\n",
    "\n",
    "print('Len names: ', len(np.unique(name)),\n",
    "      'len unq. addres: ',len(np.unique(addr)),\n",
    "      'len addres from .csv: ', len(addr),\n",
    "      'len generate data: ', len(tmp))"
   ]
  },
  {
   "cell_type": "markdown",
   "metadata": {
    "id": "JXCwQj6exUzl"
   },
   "source": [
    "### Search and depersonalization of customer data in unstructured text"
   ]
  },
  {
   "cell_type": "code",
   "execution_count": 8,
   "metadata": {
    "id": "x-9d4U3DkYQp"
   },
   "outputs": [],
   "source": [
    "\"\"\"\n",
    "In line only one (name, addres, inn)\n",
    "\"\"\"\n",
    "\n",
    "def find_addres(txt: str)-> dict:\n",
    "    \"\"\"\n",
    "    txt: str line text\n",
    "    find index digit in line\n",
    "\n",
    "    we get index:\n",
    "        min len addres is 3\n",
    "        we check:            \n",
    "            (data[i-2][0].isupper())<---data[i-1][0].isupper())<---75\n",
    "            get ('Москва', 'Т.Керашева', '75')\n",
    "\n",
    "    return max len(index) because we get for len 3 len 4\n",
    "    example:\n",
    "            return (\n",
    "                    {'68_69_70': ('Москва', 'Т.Керашева', '75')\n",
    "                    {'68_69_70_71': ('Москва', 'Т.Керашева', 'Лоботрясовая', '75')\n",
    "                    )\n",
    "            sorted(tmp)[0] -> 68_69_70_71\n",
    "\n",
    "    return index words in addres : list: addres {'68_69_70_71': ('Москва', 'Т.Керашева', 'Лоботрясовая', '75')}\n",
    "    \"\"\"\n",
    "    count = []\n",
    "    clear_txt = ' '.join(txt.split()) \n",
    "    data = clear_txt.split(' ') \n",
    "    # find index digits\n",
    "    for idx, w in enumerate(data):\n",
    "        if w[0].isdigit():\n",
    "            count.append(idx)    \n",
    "    \n",
    "    tmp = {}\n",
    "    for i in count:\n",
    "        #  Москва Дубзаводская 147  \n",
    "        if (data[i-1][0].isupper()) and (data[i-2][0].isupper()):\n",
    "            txt_addr = data[i-2], data[i-1], data[i]            \n",
    "            tmp[f'{i-2}_{i-1}_{i}'] = txt_addr        \n",
    "\n",
    "            # Дубзаводская 147 08 \n",
    "            if data[i+1][0].isdigit():\n",
    "                txt_addr = data[i-2], data[i-1], data[i], data[i+1]\n",
    "                tmp[f'{i-2}_{i-1}_{i}_{i+1}'] = txt_addr\n",
    "        # Краснодарский край Автодорога 7 \n",
    "        if (data[i-1][0].isupper()) and (data[i-2][0].islower()) and (data[i-3][0].isupper()):\n",
    "            txt_addr = data[i-3], data[i-2], data[i-1], data[i]\n",
    "            tmp[f'{i-3}_{i-2}_{i-1}_{i}'] = txt_addr\n",
    "            # Автодорога 7 3А \n",
    "            if data[i+1][0].isdigit():\n",
    "                txt_addr = data[i-3], data[i-2], data[i-1], data[i], data[i+1]\n",
    "                tmp[f'{i-3}_{i-2}_{i-1}_{i}_{i+1}'] = txt_addr\n",
    "        # Москва Т.Керашева Лоботрясовая 75\n",
    "        if (data[i-1][0].isupper()) and (data[i-2][0].isupper()) and (data[i-3][0].isupper()):\n",
    "            txt_addr = data[i-3], data[i-2], data[i-1], data[i]\n",
    "            tmp[f'{i-3}_{i-2}_{i-1}_{i}'] = txt_addr\n",
    "            if data[i+1][0].isdigit():\n",
    "                txt_addr = data[i-3], data[i-2], data[i-1], data[i], data[i+1]\n",
    "                tmp[f'{i-3}_{i-2}_{i-1}_{i}_{i+1}'] = txt_addr\n",
    "        # Моск. Область Т.Керашева Лоботрясовая 75\n",
    "        if (data[i-1][0].isupper()) and (data[i-2][0].isupper()) and (data[i-3][0].isupper()) and (data[i-4][0].isupper()):\n",
    "            txt_addr = data[i-4], data[i-3], data[i-2], data[i-1], data[i]\n",
    "            tmp[f'{i-4}_{i-3}_{i-2}_{i-1}_{i}'] = txt_addr\n",
    "            if data[i+1][0].isdigit():\n",
    "                txt_addr = data[i-4], data[i-3], data[i-2], data[i-1], data[i], data[i+1]\n",
    "                tmp[f'{i-4}_{i-3}_{i-2}_{i-1}_{i}_{i+1}'] = txt_addr\n",
    "\n",
    "    return {sorted(tmp)[0] :tmp[sorted(tmp)[0]]}\n",
    "\n",
    "def find_full_name(txt: str)->str:  \n",
    "    \"\"\"\n",
    "    txt: str line text    \n",
    "    return {'22_23_24': ('Третьяков', 'Михаил', 'Валерьянович')}\n",
    "    similarly how find_addres but we find upper latter\n",
    "    \"\"\"  \n",
    "    count = []\n",
    "    clear_txt = ' '.join(txt.split()) \n",
    "    data = clear_txt.split(' ')\n",
    "    for idx, w in enumerate(data):\n",
    "        if w[0].isupper():\n",
    "            count.append(idx)\n",
    "    tmp = {}\n",
    "    for i in range(len(count)):\n",
    "        if data[count[i] + 2][0].isupper():       \n",
    "            if data[count[i]+3][0].isupper():\n",
    "                # if data[count[i ] + 1][0].isupper():   \n",
    "                #     txt_name = data[count[i]], data[count[i]+ 1], data[count[i ]+ 2],data[count[i ]+ 3]\n",
    "                #     tmp[f'{count[i]}_{count[i]+1}_{count[i]+2}_{count[i]+3}'] = txt_name\n",
    "                pass                    \n",
    "            else:\n",
    "                if data[count[i ] + 1][0].isupper():\n",
    "                    txt_name = data[count[i]], data[count[i + 1]], data[count[i + 2]]\n",
    "                    tmp[f'{count[i]}_{count[i]+1}_{count[i]+2}'] = txt_name\n",
    "    # not need all data len names is 3\n",
    "    return tmp"
   ]
  },
  {
   "cell_type": "code",
   "execution_count": 9,
   "metadata": {
    "id": "zQ3TnjJqkYBL"
   },
   "outputs": [],
   "source": [
    "def take_txt(txt: str, df: pd.DataFrame, decode_data:dict = None, key: str = None)-> str:\n",
    "    \"\"\"\n",
    "    txt:srt line text with added mark(name, addres and inn)\n",
    "    df: psedo df \n",
    "    key: str = None df96220fa161767c5cbb95567855c86b\n",
    "    Example:\n",
    "        masked:\n",
    "            find name  ---> {'22_23_24': ('Третьякова', 'Михаил', 'Валерьяновина')}\n",
    "            and addres ---> {'68_69_70': ('Москва', 'Т.Керашева', 'Т.Керашева', 'Т.Керашева', '75')}\n",
    "            decode is None:\n",
    "                find inn ---> '123456789123'\n",
    "                get hex ---> 'df96220fa161767c5cbb95567855c86b'\n",
    "                get original data:\n",
    "                    ('Третьяков', 'Михаил', 'Валерьянович')\n",
    "                    ('Москва', 'Москва', 'Т.Керашева', 'Т.Керашева', '75')\n",
    "                psedo:\n",
    "                    name_psedo --->  Красавчег_бог Аид Геркулес'\n",
    "                    addr_psedo ---> 'Загробный Мир Ужасный Перекресток 666'\n",
    "                save to decode after\n",
    "            get name index to set psedo:\n",
    "                '22_23_24' ---> ['22', '23', '24']\n",
    "            split line\n",
    "            set psedo by index and join text for line after change originla inn to hex\n",
    "        decode:\n",
    "            we get data from previos saved in masked save_to_decode\n",
    "            name_psedo ---> {'26_27_28': ('Голыгиев', 'Ландри', 'Всеволодович')}\n",
    "            addr_psedo ---> {'80_81_82': ('Москва', 'Вишневая', '70')}\n",
    "            inn ---> 269054776996\n",
    "            after split:\n",
    "                        name_psedo -->  ('Голыгиев', 'Ландри', 'Всеволодович')\n",
    "            other step indetical masked (samle words we masked masked data original values)    \n",
    "    if decode return txt\n",
    "    if masked return decode_data and txt\n",
    "        decode_data:\n",
    "            {'df96220fa161767c5cbb95567855c86b': [{'68_69_70': ('Москва','Т.Керашева','75')},\n",
    "                                                {'22_23_24': ('Третьяков', 'Михаил', 'Валерьянович')},\n",
    "                                                '123456789123']}\n",
    "    \"\"\"\n",
    "    # set_trace()\n",
    "    name = find_full_name(txt)\n",
    "    addr = find_addres(txt)\n",
    "\n",
    "    if decode_data is None:          \n",
    "        save_to_decode = {}        \n",
    "        reg_inn = re.search('\\d{12}', txt).group()\n",
    "        key_hex = hashlib.md5(reg_inn.encode('utf-8')).hexdigest() \n",
    "\n",
    "        name_to_gen_psedo = list(name.values())[0]\n",
    "        addr_to_gen_psedo = list(addr.values())[0]\n",
    "        original_data = [name_to_gen_psedo, addr_to_gen_psedo]\n",
    "        # name_psedo, addr_psedo\n",
    "        name_psedo, addr_psedo = make_psedo(df, original_data)\n",
    "        name_psedo, addr_psedo = name_psedo.split(), addr_psedo.split()\n",
    "\n",
    "        save_to_decode[key_hex] = [name, addr, reg_inn]\n",
    "    else:\n",
    "        # this ori data to decode\n",
    "        # nice we test correct index not test it      \n",
    "        name_psedo, addr_psedo, reg_inn = decode_data[key]\n",
    "        name_psedo, addr_psedo = name_psedo[list(name.keys())[0]], addr_psedo[list(addr.keys())[0]]\n",
    "\n",
    "    # change to psedo\n",
    "    idx_name = list(name.keys())[0].split('_')\n",
    "    assert len(idx_name) == 3, f'error len name < 3 {list(name.values())[0]}'\n",
    "    idx_addr = list(addr.keys())[0].split('_')\n",
    "    # count all len addr in data set and set to assert < max values len addr\n",
    "    assert len(idx_addr) >= 3, f'error len idx_addr >= 3 {list(idx_addr.values())[0]}' \n",
    "    data = txt.split()\n",
    "    psedo_data = data.copy()\n",
    "    # print(name_psedo, addr_psedo)\n",
    "    psedo_data[int(idx_name[0]): int(idx_name[-1])+1] = name_psedo\n",
    "    psedo_data[int(idx_addr[0]): int(idx_addr[-1])+1] = addr_psedo\n",
    "\n",
    "    psedo_idx = (np.array(data) != np.array(psedo_data)).nonzero()[0]\n",
    "    psedo_idx_name = psedo_idx[:3]\n",
    "    psedo_idx_addr = psedo_idx[3:]    \n",
    " \n",
    "    assert all(psedo_idx_name == np.asarray(idx_name).astype(int)),\\\n",
    "           f'idx name not corect {idx_name} -> {psedo_idx_name}'\n",
    "    assert all(psedo_idx_addr == np.asarray(idx_addr).astype(int)),\\\n",
    "               f'idx addr not corect {idx_addr} -> {psedo_idx_addr}'\n",
    "    new_txt = ' '.join(psedo_data)    \n",
    "    if decode_data is None:             \n",
    "        new_txt = re.sub(reg_inn, key_hex, new_txt)\n",
    "        return new_txt, save_to_decode\n",
    "    else: return re.sub(key, reg_inn, new_txt)"
   ]
  },
  {
   "cell_type": "code",
   "execution_count": 10,
   "metadata": {
    "colab": {
     "base_uri": "https://localhost:8080/"
    },
    "id": "s0YNN1opkX_B",
    "outputId": "5fece3f2-8256-4db4-c78c-47a0f4c727c4"
   },
   "outputs": [
    {
     "name": "stdout",
     "output_type": "stream",
     "text": [
      "Correct!\n"
     ]
    }
   ],
   "source": [
    "new_txt, param = take_txt(tmp[0], df_evil)\n",
    "decode_txt = take_txt(new_txt, df_evil, decode_data=param, key=list(param.keys())[0])\n",
    "assert decode_txt == tmp[0], 'simple check decode not correct'\n",
    "print('Correct!')"
   ]
  },
  {
   "cell_type": "code",
   "execution_count": 11,
   "metadata": {
    "id": "27cgaRXuvtVX"
   },
   "outputs": [],
   "source": [
    "# !cat /proc/cpuinfo"
   ]
  },
  {
   "cell_type": "code",
   "execution_count": null,
   "metadata": {
    "colab": {
     "base_uri": "https://localhost:8080/"
    },
    "id": "iVb9Fod3lDkP",
    "outputId": "130bb2b4-61a7-4165-8fbd-a93749757e47"
   },
   "outputs": [
    {
     "name": "stderr",
     "output_type": "stream",
     "text": [
      "  0%|          | 0/250 [00:00<?, ?it/s]"
     ]
    }
   ],
   "source": [
    "%%time\n",
    "ori_data = {}\n",
    "fake_txt = []\n",
    "result = Parallel(n_jobs = -1)(delayed(take_txt)(text,\n",
    "                                        df_evil              \n",
    "                                            )\n",
    "                                            for text in tqdm(tmp)\n",
    "                                            )"
   ]
  },
  {
   "cell_type": "code",
   "execution_count": null,
   "metadata": {
    "colab": {
     "base_uri": "https://localhost:8080/"
    },
    "id": "zLw5X3V0lDgM",
    "outputId": "9428671a-3979-4478-e5fa-cf5b26f5499c"
   },
   "outputs": [],
   "source": [
    "%%time\n",
    "decode_txt = Parallel(n_jobs = -1)(delayed(take_txt)(result[idx][0],\n",
    "                                                     df_evil,\n",
    "                                                     result[idx][1],\n",
    "                                                     list(result[idx][1].keys())[0]\n",
    "                                                     ) \n",
    "                                                     for idx in range(len(result))\n",
    "                                                     )"
   ]
  },
  {
   "cell_type": "markdown",
   "metadata": {
    "id": "j-Bxa0jHBs_P"
   },
   "source": [
    "### check correct"
   ]
  },
  {
   "cell_type": "code",
   "execution_count": null,
   "metadata": {
    "colab": {
     "base_uri": "https://localhost:8080/",
     "height": 171
    },
    "id": "ShwqcyDEBSzD",
    "outputId": "0b3ecf7e-15c1-4cf3-8eed-370153468dfe"
   },
   "outputs": [],
   "source": [
    "result[125][0]"
   ]
  },
  {
   "cell_type": "code",
   "execution_count": null,
   "metadata": {
    "colab": {
     "base_uri": "https://localhost:8080/"
    },
    "id": "7_d0AZHmBk-1",
    "outputId": "0bbb9fbd-2274-4e28-bf1c-e4ed3f58b6fd"
   },
   "outputs": [],
   "source": [
    "result[125][1]"
   ]
  },
  {
   "cell_type": "code",
   "execution_count": null,
   "metadata": {
    "colab": {
     "base_uri": "https://localhost:8080/",
     "height": 171
    },
    "id": "3v0uDDzgBOo5",
    "outputId": "7921da3e-45d6-4612-8438-96a44f76a3bc"
   },
   "outputs": [],
   "source": [
    "decode_txt[125]"
   ]
  },
  {
   "cell_type": "code",
   "execution_count": null,
   "metadata": {
    "colab": {
     "base_uri": "https://localhost:8080/"
    },
    "id": "jtKZevfZ1z4M",
    "outputId": "9329bfae-694a-4406-dfb9-d4ab31e1e1e3"
   },
   "outputs": [],
   "source": [
    "assert decode_txt == tmp, 'not eq, decode error'\n",
    "print('Correct!')"
   ]
  }
 ],
 "metadata": {
  "colab": {
   "collapsed_sections": [],
   "name": "evil_disney_depersonalization.ipynb",
   "provenance": []
  },
  "kernelspec": {
   "display_name": "Python 3",
   "language": "python",
   "name": "python3"
  },
  "language_info": {
   "codemirror_mode": {
    "name": "ipython",
    "version": 3
   },
   "file_extension": ".py",
   "mimetype": "text/x-python",
   "name": "python",
   "nbconvert_exporter": "python",
   "pygments_lexer": "ipython3",
   "version": "3.9.2"
  }
 },
 "nbformat": 4,
 "nbformat_minor": 4
}
